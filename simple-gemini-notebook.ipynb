{
 "cells": [
  {
   "cell_type": "code",
   "execution_count": 1,
   "id": "3281bf26-c402-4250-938e-192aeb0c5bb4",
   "metadata": {
    "tags": []
   },
   "outputs": [],
   "source": [
    "import vertexai\n",
    "\n",
    "PROJECT_ID = \"poc-chatbot-edf\"  \n",
    "LOCATION =  \"eu-west1\""
   ]
  },
  {
   "cell_type": "code",
   "execution_count": 2,
   "id": "cfe9e3cf-3069-4317-8781-0c3d22d8bdde",
   "metadata": {
    "tags": []
   },
   "outputs": [],
   "source": [
    "from vertexai.generative_models import GenerativeModel"
   ]
  },
  {
   "cell_type": "code",
   "execution_count": 3,
   "id": "d84fef9b-5c97-418e-84eb-5edfb5e28b12",
   "metadata": {
    "tags": []
   },
   "outputs": [],
   "source": [
    "model = GenerativeModel(\"gemini-1.5-pro\")"
   ]
  },
  {
   "cell_type": "code",
   "execution_count": 4,
   "id": "52f195b4-cafb-43c3-88c9-674977dbbf04",
   "metadata": {
    "tags": []
   },
   "outputs": [
    {
     "name": "stdout",
     "output_type": "stream",
     "text": [
      "The sky appears blue due to a phenomenon called **Rayleigh scattering**. Here's how it works:\n",
      "\n",
      "1. **Sunlight Enters the Atmosphere:** Sunlight is made up of all the colors of the rainbow.\n",
      "2. **Scattering of Light:**  As sunlight enters Earth's atmosphere, it collides with tiny particles of air, like nitrogen and oxygen molecules. These particles are much smaller than the wavelengths of visible light.\n",
      "3. **Blue Light Scatters More:** Blue and violet light have shorter wavelengths and higher energy than other colors in the spectrum. When sunlight hits these air molecules, the shorter wavelengths (blue and violet) are scattered more effectively in all directions. \n",
      "4. **We See the Scattered Blue:** Our eyes are more sensitive to blue light than violet light. As a result, we perceive the sky as blue because the scattered blue light reaches our eyes from all directions.\n",
      "\n",
      "**Why not violet, then?**\n",
      "\n",
      "While violet light is scattered even more than blue, our eyes are less sensitive to it. Also, the sunlight reaching us doesn't have an equal amount of all colors; it contains less violet to begin with. \n",
      "\n",
      "**Why does the sky look different at sunrise and sunset?**\n",
      "\n",
      "At sunrise and sunset, sunlight travels a longer path through the atmosphere. The shorter wavelengths (blue and violet) are scattered away, leaving the longer wavelengths (red, orange, and yellow) to reach our eyes, creating those beautiful hues. \n",
      "\n"
     ]
    }
   ],
   "source": [
    "response = model.generate_content(\"Why is the sky blue?\")\n",
    "\n",
    "print(response.text)"
   ]
  }
 ],
 "metadata": {
  "environment": {
   "kernel": "conda-base-py",
   "name": "workbench-notebooks.m125",
   "type": "gcloud",
   "uri": "us-docker.pkg.dev/deeplearning-platform-release/gcr.io/workbench-notebooks:m125"
  },
  "kernelspec": {
   "display_name": "Python 3 (ipykernel) (Local)",
   "language": "python",
   "name": "conda-base-py"
  },
  "language_info": {
   "codemirror_mode": {
    "name": "ipython",
    "version": 3
   },
   "file_extension": ".py",
   "mimetype": "text/x-python",
   "name": "python",
   "nbconvert_exporter": "python",
   "pygments_lexer": "ipython3",
   "version": "3.10.15"
  }
 },
 "nbformat": 4,
 "nbformat_minor": 5
}
